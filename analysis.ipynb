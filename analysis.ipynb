{
 "cells": [
  {
   "cell_type": "code",
   "execution_count": 1,
   "metadata": {},
   "outputs": [],
   "source": [
    "import pandas as pd\n",
    "import os"
   ]
  },
  {
   "cell_type": "code",
   "execution_count": 9,
   "metadata": {},
   "outputs": [
    {
     "name": "stdout",
     "output_type": "stream",
     "text": [
      "      Miles    Avg_Miles  Avg_Time                                             Cities      Countries                                                                 Orgs\n",
      "0  13676.68  1519.631111      17.7  {Seattle, Frankfurt am Main, Lacey, nan, Chicago}  {nan, DE, US}  {nan, AS15169 Google LLC, AS7922 Comcast Cable Communications, LLC}\n"
     ]
    }
   ],
   "source": [
    "file_name = './wish_route.csv'\n",
    "\n",
    "pd.set_option('display.max_columns', None)\n",
    "pd.set_option('display.max_colwidth', None)\n",
    "pd.set_option('display.max_columns', None)\n",
    "#pd.set_option('display.expand_frame_repr', False)\n",
    "\n",
    "df = pd.read_csv(file_name)\n",
    "\n",
    "# sum up the total distance traveled\n",
    "total_distance = df['distance_miles'].sum()\n",
    "avg_distance = df['distance_miles'].mean()\n",
    "avg_time = df['avg_ms'].mean()\n",
    "cities = set(df['city'])\n",
    "countries = set(df['country'])\n",
    "organizations = set(df['org'])\n",
    "\n",
    "results_df = pd.DataFrame({\n",
    "    'TotalMiles': [total_distance],\n",
    "    'AvgMiles': [avg_distance],\n",
    "    'AvgTime': [avg_time],\n",
    "    'Cities': [cities],\n",
    "    'Countries': [countries],\n",
    "    'Orgs': [organizations]\n",
    "})\n",
    "\n",
    "print(results_df)\n",
    "results_df.to_csv('results.csv', mode='w', index=False)\n"
   ]
  }
 ],
 "metadata": {
  "kernelspec": {
   "display_name": "base",
   "language": "python",
   "name": "python3"
  },
  "language_info": {
   "codemirror_mode": {
    "name": "ipython",
    "version": 3
   },
   "file_extension": ".py",
   "mimetype": "text/x-python",
   "name": "python",
   "nbconvert_exporter": "python",
   "pygments_lexer": "ipython3",
   "version": "3.10.9"
  },
  "orig_nbformat": 4
 },
 "nbformat": 4,
 "nbformat_minor": 2
}
